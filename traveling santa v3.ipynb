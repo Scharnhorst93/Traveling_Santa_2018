{
 "cells": [
  {
   "cell_type": "markdown",
   "metadata": {},
   "source": [
    "Open Source Software Project\n",
    "========================\n",
    "\n",
    "Traveling Santa 2018 - Prime Paths\n",
    "-----------------------------------------\n",
    "\n",
    "based on Andre Sionek, Object Oriented Santa’s Route + Concorde Solver, https://www.kaggle.com/andresionek/object-oriented-santa-s-route-concorde-solver"
   ]
  },
  {
   "cell_type": "code",
   "execution_count": 1,
   "metadata": {},
   "outputs": [
    {
     "ename": "ModuleNotFoundError",
     "evalue": "No module named 'concorde.tsp'",
     "output_type": "error",
     "traceback": [
      "\u001b[0;31m---------------------------------------------------------------------------\u001b[0m",
      "\u001b[0;31mModuleNotFoundError\u001b[0m                       Traceback (most recent call last)",
      "\u001b[0;32m<ipython-input-1-dfb842cf43fd>\u001b[0m in \u001b[0;36m<module>\u001b[0;34m\u001b[0m\n\u001b[1;32m      8\u001b[0m \u001b[0;32mimport\u001b[0m \u001b[0mnumpy\u001b[0m \u001b[0;32mas\u001b[0m \u001b[0mnp\u001b[0m\u001b[0;34m\u001b[0m\u001b[0m\n\u001b[1;32m      9\u001b[0m \u001b[0;34m\u001b[0m\u001b[0m\n\u001b[0;32m---> 10\u001b[0;31m \u001b[0;32mfrom\u001b[0m \u001b[0mconcorde\u001b[0m\u001b[0;34m.\u001b[0m\u001b[0mtsp\u001b[0m \u001b[0;32mimport\u001b[0m \u001b[0mTSPSolver\u001b[0m\u001b[0;34m\u001b[0m\u001b[0m\n\u001b[0m\u001b[1;32m     11\u001b[0m \u001b[0;34m\u001b[0m\u001b[0m\n\u001b[1;32m     12\u001b[0m \u001b[0;32mimport\u001b[0m \u001b[0mpylab\u001b[0m \u001b[0;32mas\u001b[0m \u001b[0mpl\u001b[0m\u001b[0;34m\u001b[0m\u001b[0m\n",
      "\u001b[0;31mModuleNotFoundError\u001b[0m: No module named 'concorde.tsp'"
     ]
    }
   ],
   "source": [
    "# import libs\n",
    "import io\n",
    "import base64\n",
    "import time\n",
    "import math\n",
    "import matplotlib.pyplot as plt\n",
    "import pandas as pd\n",
    "import numpy as np\n",
    "\n",
    "from concorde.tsp import TSPSolver\n",
    "\n",
    "import pylab as pl\n",
    "from matplotlib import collecgtions as mc\n",
    "from IPython.display import display, HTML"
   ]
  },
  {
   "cell_type": "markdown",
   "metadata": {},
   "source": [
    "City class\n",
    "------------\n",
    "\n",
    "입력 데이터로부터 받을 수 있는 데이터\n",
    "x: x축 좌표\n",
    "y: y축 좌표\n",
    "id: 도시 번호\n",
    "\n",
    "두 좌표 정보를 조합해 coord: (x, y)의 터플형 데이터를 만들 수 있다.\n",
    "\n",
    "어떤 도시에 한 번 방문 했음을 표시하기 위해 boolean 타입 is_visited, 초기값 False\n",
    "\n",
    "어떤 도시가 프라임도시인지 체크하기 위해 boolean 타입 is_prime 선언 후 check_prime()을 통해 초기화\n",
    "\n",
    "__init__(): 객체 초기화\n",
    "check_prime(): 도시 ID가 소수인지 판단하여 프라임도시 여부 확인\n",
    "visit(): 도시를 방문하고 방문 여부 True로 변경\n",
    "__repr__(): 객체의 정보 출력\n",
    "    CityId: 도시 번호\n",
    "    Coordinates: 좌표정보\n",
    "    Is prime: 프라임(소수) 도시 여부\n",
    "    Is visited: 방문 여부"
   ]
  },
  {
   "cell_type": "code",
   "execution_count": null,
   "metadata": {},
   "outputs": [],
   "source": [
    "# City class\n",
    "class City:   \n",
    "    def __init__(self, id_, x, y):\n",
    "        self.x = x\n",
    "        self.y = y\n",
    "        self.coord = (x, y)\n",
    "        self.id = id_\n",
    "        self.is_visited = False\n",
    "        self.is_prime = self.check_prime()\n",
    "    \n",
    "    # 프라임 도시인지 체크\n",
    "    def check_prime(self):\n",
    "        if self.id % 2 == 0 and self.id > 2: \n",
    "            return False\n",
    "        return all(self.id % i for i in range(3, int(math.sqrt(self.id)) + 1, 2))\n",
    "    \n",
    "    # 방문한 곳 체크\n",
    "    def visit(self):\n",
    "        self.is_visited = True\n",
    "        \n",
    "    # City 객체의 정보를 출력하는 용도\n",
    "    def __repr__(self):\n",
    "        fmt_str = 'CityId: {} \\nCoordinates: {}\\nIs prime: {}\\nIs visited: {}'\n",
    "        return fmt_str.format(self.id, self.coord, self.is_prime, self.is_visited)"
   ]
  },
  {
   "cell_type": "markdown",
   "metadata": {},
   "source": [
    "World class\n",
    "-\n",
    "Dictionary 컬렉션"
   ]
  },
  {
   "cell_type": "code",
   "execution_count": null,
   "metadata": {},
   "outputs": [],
   "source": [
    "class World:\n",
    "    def __init__(self):\n",
    "        self.cities = dict()\n",
    "        self.df = pd.DataFrame()\n",
    "    \n",
    "    # City 객체 하나를 World에 추가\n",
    "    def add(self, city):\n",
    "        if isinstance(city, City):\n",
    "            # checks if the object type added to the world is correct\n",
    "            self.cities[city.id] = city\n",
    "        else:\n",
    "            raise TypeError ('city must be a \"__main__.City\" object!')\n",
    "        self.update_df()\n",
    "    \n",
    "    # City 객체 하나를 World에서 제거\n",
    "    def remove_by_id(self, id_):\n",
    "        self.cities.pop(id_)\n",
    "    \n",
    "    # 데이터프레임에서 도시 리스트 불러오기\n",
    "    def bulk_add_city(self, dataframe):\n",
    "        dataframe['city'] = dataframe.apply(lambda x: City(x.iloc[0], x.iloc[1], x.iloc[2]), axis=1)\n",
    "        dataframe = dataframe.drop(['X','Y'], axis=1)\n",
    "        dataframe = dataframe.set_index('CityId')\n",
    "        cities = dataframe.to_dict()['city']\n",
    "        self.cities.update(cities)\n",
    "        self.update_df()\n",
    "    \n",
    "    # Gets the quantity of cities in the world\n",
    "    def size(self):\n",
    "        return self.df.shape[0]\n",
    "    \n",
    "    # World에서 프라임 도시 얻기\n",
    "    def primes(self):\n",
    "        return [c for idx, c in self.cities.items() if c.is_prime]\n",
    "    \n",
    "    # World에서 프라임 도시가 아닌 도시 얻기\n",
    "    def nonprimes(self):\n",
    "        return [c for idx, c in self.cities.items() if not c.is_prime]\n",
    "    \n",
    "    # 북극(시작점, CityId == 0) 얻기\n",
    "    def north_pole(self):\n",
    "        return self.cities[0]\n",
    "    \n",
    "    # World에 있는 모든 City의 Id 값(key) 얻기\n",
    "    def ids(self):\n",
    "        return list(self.cities.keys())\n",
    "    \n",
    "    # Id(key) 값으로 City 얻기\n",
    "    def get_city(self, id_):\n",
    "        return self.cities[id_]\n",
    "    \n",
    "    # 도시 좌표를 dataframe으로 가져오기\n",
    "    def update_df(self):\n",
    "        dataframe = pd.DataFrame.from_dict(world.cities, orient='index', columns=['city'])\n",
    "        dataframe['x'] = dataframe.apply(lambda x: x.iloc[0].x, axis=1)\n",
    "        dataframe['y'] = dataframe.apply(lambda x: x.iloc[0].y, axis=1)\n",
    "        dataframe['id'] = dataframe.apply(lambda x: x.iloc[0].id, axis=1)\n",
    "        dataframe['is_prime'] = dataframe.apply(lambda x: x.iloc[0].is_prime, axis=1)\n",
    "        self.df = dataframe\n",
    "    \n",
    "    # World 그래프 그리기. 북극을 빨간색으로 표시하고, 옵션으로 프라임 도시를 파란 색으로 표시\n",
    "    def plot(self, show_primes=False):\n",
    "        self.df.plot.scatter(x='x', y='y', s=0.07, figsize=(15, 10), c='green', alpha=0.6)\n",
    "\n",
    "        if show_primes:\n",
    "            coords = self.df[self.df['is_prime']]\n",
    "            plt.scatter(x=coords.x, y=coords.y, c='blue', s=0.1, alpha=0.6)\n",
    "        \n",
    "        plt.scatter(self.north_pole().x, self.north_pole().y, c='red', s=16)\n",
    "        plt.axis('off')\n",
    "        \n",
    "        return plt.show()"
   ]
  },
  {
   "cell_type": "markdown",
   "metadata": {},
   "source": [
    "데이터프레임 불러오기"
   ]
  },
  {
   "cell_type": "code",
   "execution_count": null,
   "metadata": {},
   "outputs": [],
   "source": [
    "df = pd.read_csv('./data/cities.csv')\n",
    "df.head()"
   ]
  },
  {
   "cell_type": "code",
   "execution_count": null,
   "metadata": {},
   "outputs": [],
   "source": [
    "df.shape # the dataset shape"
   ]
  },
  {
   "cell_type": "code",
   "execution_count": null,
   "metadata": {},
   "outputs": [],
   "source": [
    "world = World() # creates a new empty world\n",
    "world.cities"
   ]
  },
  {
   "cell_type": "code",
   "execution_count": null,
   "metadata": {},
   "outputs": [],
   "source": [
    "world.bulk_add_city(df) # adds all cities from the dataframe into the world"
   ]
  },
  {
   "cell_type": "code",
   "execution_count": null,
   "metadata": {},
   "outputs": [],
   "source": [
    "world.size() # 도시의 총 갯수"
   ]
  },
  {
   "cell_type": "code",
   "execution_count": null,
   "metadata": {},
   "outputs": [],
   "source": [
    "world.north_pole().coord # 북극(CityId == 0)의 좌표 확인"
   ]
  },
  {
   "cell_type": "code",
   "execution_count": null,
   "metadata": {},
   "outputs": [],
   "source": [
    "len(world.primes()) # 프라임 도시의 갯수"
   ]
  },
  {
   "cell_type": "code",
   "execution_count": null,
   "metadata": {},
   "outputs": [],
   "source": [
    "world.plot() # 그래프"
   ]
  },
  {
   "cell_type": "code",
   "execution_count": null,
   "metadata": {},
   "outputs": [],
   "source": [
    "world.plot(show_primes=True) # 프라임도시를 별도 색으로 표기한 그래프"
   ]
  },
  {
   "cell_type": "markdown",
   "metadata": {},
   "source": [
    "경로 찾기\n",
    "---------"
   ]
  },
  {
   "cell_type": "code",
   "execution_count": null,
   "metadata": {},
   "outputs": [],
   "source": [
    "class Route():\n",
    "    def __init__(self, world):\n",
    "        # Init path with just the North Pole\n",
    "        self.world = world\n",
    "        self.stops = [self.world.north_pole()]\n",
    "        self.tenth_steps = []\n",
    "        self.prime_tenth_steps = self.get_prime_tenth_steps()\n",
    "    \n",
    "    # 두 도시간 2D 유클리드 거리 계산\n",
    "    @staticmethod\n",
    "    def distance(a, b):\n",
    "        return math.sqrt((a.x - b.x) ** 2 + (a.y - b.y) ** 2)\n",
    "    \n",
    "    # Calculates the number of stops in the path\n",
    "    def size(self):\n",
    "        return len(self.stops)\n",
    "    \n",
    "    # Add stop to path\n",
    "    def add(self, ids):\n",
    "        if isinstance(ids, type(list())):\n",
    "            for id_ in ids:\n",
    "                self.stops.append(self.world.get_city(id_))\n",
    "        elif isinstance(ids, type(int())):\n",
    "            self.stops.append(self.world.get_city(ids))\n",
    "    \n",
    "    # Adds all cities in the world to the route\n",
    "    def add_world(self):\n",
    "        self.add(list(range(1, self.world.size())))\n",
    "    \n",
    "    # 패널티를 포함한 전체 경로의 비용 계산\n",
    "    def cost(self):\n",
    "        dist = 0\n",
    "        l = self.size()\n",
    "        for idx, stop in enumerate(self.stops):\n",
    "            curr_ = stop\n",
    "            step_number = idx + 1\n",
    "            if step_number < l:\n",
    "                next_ = self.stops[step_number]\n",
    "            if step_number % 10 == 0 and not curr_.is_prime:\n",
    "                dist += self.distance(curr_, next_) * 1.1\n",
    "            else:\n",
    "                dist += self.distance(curr_, next_)\n",
    "        return dist\n",
    "    \n",
    "    # 패널티를 제외한 경로의 비용 계산\n",
    "    def euclidian_cost(self):\n",
    "        dist = 0\n",
    "        l = self.size()\n",
    "        for idx, stop in enumerate(self.stops):\n",
    "            curr_ = stop\n",
    "            step_number = idx + 1\n",
    "            if step_number < l:\n",
    "                next_ = self.stops[step_number]\n",
    "            dist += self.distance(curr_, next_)\n",
    "        return dist\n",
    "    \n",
    "    # 프라임도시에 가지 않아서 생긴 패널티 총량\n",
    "    def penalty(self):\n",
    "        return self.cost() - self.euclidian_cost()\n",
    "    \n",
    "    # 10번째마다 방문한 도시들 구하기\n",
    "    def get_tenth_steps(self):\n",
    "        self.tenth_steps = [c for s,c in enumerate(self.stops) if (s + 1) % 10 == 0]\n",
    "        return self.tenth_steps\n",
    "    \n",
    "    # 10번째마다 방문한 도시 중 프라임 도시 구하기\n",
    "    def get_prime_tenth_steps(self):\n",
    "        primes = self.world.primes()\n",
    "        self.prime_tenth_steps = [c for c in self.tenth_steps if c in primes]\n",
    "        return self.prime_tenth_steps\n",
    "    \n",
    "    # 방문 경로대로 순차 정렬된 도시 리스트 얻기\n",
    "    def get_ids(self):\n",
    "        return [c.id for c in self.stops]\n",
    "\n",
    "    # 콩코드로 문제 풀이, 패널티 제외\n",
    "    def concorde(self, time):\n",
    "        x = [c.x for c in self.stops[:-1]]\n",
    "        y = [c.y for c in self.stops[:-1]]\n",
    "\n",
    "        # Instantiate solver\n",
    "        solver = TSPSolver.from_data(x, y, norm=\"EUC_2D\")\n",
    "        \n",
    "        # solve\n",
    "        tour_data = solver.solve(time_bound=float(time), verbose=True, random_seed=42)\n",
    "        \n",
    "        # Reorder the route with concorde solution\n",
    "        order = np.append(tour_data.tour,[0])\n",
    "        new_route = [self.stops[i] for i in order]\n",
    "        self.stops = new_route\n",
    "    \n",
    "    # 경로를 그래프로 그리기\n",
    "    def plot(self, show_primes=False, show_10th_step=False, show_intersection=False):\n",
    "        lwidth, lalpha = 0.4, 0.6\n",
    "        lines = [[self.stops[i].coord,self.stops[i + 1].coord] for i in range(0, self.size() - 1)]\n",
    "        lc = mc.LineCollection(lines, linewidths=lwidth, alpha=lalpha, colors='red')\n",
    "        fig, ax = pl.subplots(figsize=(20,20))\n",
    "        \n",
    "        ax.set_aspect('equal')\n",
    "        ax.add_collection(lc)\n",
    "        ax.autoscale()   \n",
    "        \n",
    "        if show_primes:\n",
    "            # get coords of prime cities\n",
    "            coords = self.world.df[self.world.df['is_prime']]\n",
    "            # plot\n",
    "            pc = plt.scatter(x=coords.x, y=coords.y, c='green', s=3, alpha=0.3) \n",
    "            ax.add_collection(pc)\n",
    "        \n",
    "        if show_10th_step:\n",
    "            # get coords of each 10th stop\n",
    "            coords = [c.coord for c in self.tenth_steps]\n",
    "            coords = pd.DataFrame(coords, columns=['x','y'])\n",
    "            # plot \n",
    "            pc = plt.scatter(x=coords.x, y=coords.y, c='blue', s=3, alpha=0.3) \n",
    "            ax.add_collection(pc)\n",
    "        \n",
    "        if show_intersection:\n",
    "            # get coords of each 10th stop\n",
    "            coords = [c.coord for c in self.prime_tenth_steps]\n",
    "            coords = pd.DataFrame(coords, columns=['x','y'])\n",
    "            # plot \n",
    "            pc = plt.scatter(x=coords.x, y=coords.y, c='black', s=4, alpha=0.5) \n",
    "            ax.add_collection(pc)\n",
    "            return\n",
    "                \n",
    "    def load(self, path):\n",
    "        \"\"\"\n",
    "        Loads external solution from csv file\n",
    "        \"\"\"\n",
    "        df = pd.read_csv(path)\n",
    "        ids = df['Path'].values.tolist()\n",
    "        self.stops = []\n",
    "        for id_ in ids:\n",
    "            self.stops.append(self.world.get_city(id_))\n",
    "    \n",
    "    # 경로 정보를 csv파일로 내보내기\n",
    "    def submit(self, filename):\n",
    "        dataframe = pd.DataFrame(self.stops, columns=['city'])\n",
    "        dataframe['Path'] = dataframe.apply(lambda x: x.iloc[0].id, axis=1).astype(int)\n",
    "        dataframe[['Path']].to_csv(filename, index=False)"
   ]
  },
  {
   "cell_type": "code",
   "execution_count": null,
   "metadata": {},
   "outputs": [],
   "source": [
    "route = Route(world)\n",
    "route.stops"
   ]
  },
  {
   "cell_type": "code",
   "execution_count": null,
   "metadata": {},
   "outputs": [],
   "source": [
    "route.stops[0].id, route.stops[0].coord"
   ]
  },
  {
   "cell_type": "code",
   "execution_count": null,
   "metadata": {},
   "outputs": [],
   "source": [
    "route.add_world # 경로에 모든 도시 추가(world에 추가되어 있다)\n",
    "route.add(0) # 마지막 목적지 북극을 경로에 추가"
   ]
  },
  {
   "cell_type": "code",
   "execution_count": null,
   "metadata": {},
   "outputs": [],
   "source": [
    "route.concorde(60) # 콩코드로 경로 계산"
   ]
  },
  {
   "cell_type": "code",
   "execution_count": null,
   "metadata": {},
   "outputs": [],
   "source": [
    "route.cost() # 패널티 포함 전체 경로 비용"
   ]
  },
  {
   "cell_type": "code",
   "execution_count": null,
   "metadata": {},
   "outputs": [],
   "source": [
    "route.euclidian_cost() # 패널티 제외 전체 경로 비용"
   ]
  },
  {
   "cell_type": "code",
   "execution_count": null,
   "metadata": {},
   "outputs": [],
   "source": [
    "route.penalty() # 패널티 총량"
   ]
  },
  {
   "cell_type": "code",
   "execution_count": null,
   "metadata": {},
   "outputs": [],
   "source": [
    "route.get_tenth_steps() # 10번째마다 방문한 도시 목록\n",
    "route.get_prime_tenth_steps() # 그 중 프라임도시인 목록\n",
    "len(route.prime_tenth_steps) / len(route.tenth_steps) # 10번째마다 방문한 도시가 프라임도시인 확률"
   ]
  },
  {
   "cell_type": "code",
   "execution_count": null,
   "metadata": {},
   "outputs": [],
   "source": [
    "route.plot()"
   ]
  }
 ],
 "metadata": {
  "kernelspec": {
   "display_name": "Python 3",
   "language": "python",
   "name": "python3"
  },
  "language_info": {
   "codemirror_mode": {
    "name": "ipython",
    "version": 3
   },
   "file_extension": ".py",
   "mimetype": "text/x-python",
   "name": "python",
   "nbconvert_exporter": "python",
   "pygments_lexer": "ipython3",
   "version": "3.7.0"
  }
 },
 "nbformat": 4,
 "nbformat_minor": 2
}
