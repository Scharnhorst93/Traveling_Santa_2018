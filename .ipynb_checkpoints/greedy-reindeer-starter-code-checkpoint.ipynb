{
 "cells": [
  {
   "cell_type": "markdown",
   "metadata": {
    "_uuid": "20a12a0da4b68efe2c5906376cf7235a1f0a5585"
   },
   "source": [
    "# Greedy Reindeer - A Starter code to the Traveling Santa Problem\n",
    "### Using a greedy algorithm to solve the problem\n",
    "\n",
    "Prime cities are taken into account"
   ]
  },
  {
   "cell_type": "code",
   "execution_count": 1,
   "metadata": {
    "_cell_guid": "b1076dfc-b9ad-4769-8c92-a6c4dae69d19",
    "_uuid": "8f2839f25d086af736a60e9eeb907d3b93b6e0e5"
   },
   "outputs": [
    {
     "ename": "ModuleNotFoundError",
     "evalue": "No module named 'pandas'",
     "output_type": "error",
     "traceback": [
      "\u001b[0;31m---------------------------------------------------------------------------\u001b[0m",
      "\u001b[0;31mModuleNotFoundError\u001b[0m                       Traceback (most recent call last)",
      "\u001b[0;32m<ipython-input-1-75743377d8d5>\u001b[0m in \u001b[0;36m<module>\u001b[0;34m\u001b[0m\n\u001b[0;32m----> 1\u001b[0;31m \u001b[0;32mimport\u001b[0m \u001b[0mpandas\u001b[0m \u001b[0;32mas\u001b[0m \u001b[0mpd\u001b[0m\u001b[0;34m\u001b[0m\u001b[0m\n\u001b[0m\u001b[1;32m      2\u001b[0m \u001b[0;32mimport\u001b[0m \u001b[0mnumpy\u001b[0m \u001b[0;32mas\u001b[0m \u001b[0mnp\u001b[0m\u001b[0;34m\u001b[0m\u001b[0m\n\u001b[1;32m      3\u001b[0m \u001b[0;32mimport\u001b[0m \u001b[0mseaborn\u001b[0m \u001b[0;32mas\u001b[0m \u001b[0msns\u001b[0m\u001b[0;34m\u001b[0m\u001b[0m\n\u001b[1;32m      4\u001b[0m \u001b[0;32mimport\u001b[0m \u001b[0mmatplotlib\u001b[0m\u001b[0;34m.\u001b[0m\u001b[0mpyplot\u001b[0m \u001b[0;32mas\u001b[0m \u001b[0mplt\u001b[0m\u001b[0;34m\u001b[0m\u001b[0m\n\u001b[1;32m      5\u001b[0m \u001b[0;32mfrom\u001b[0m \u001b[0mnumpy\u001b[0m\u001b[0;34m.\u001b[0m\u001b[0mlinalg\u001b[0m \u001b[0;32mimport\u001b[0m \u001b[0mnorm\u001b[0m\u001b[0;34m\u001b[0m\u001b[0m\n",
      "\u001b[0;31mModuleNotFoundError\u001b[0m: No module named 'pandas'"
     ]
    }
   ],
   "source": [
    "import pandas as pd\n",
    "import numpy as np\n",
    "import seaborn as sns\n",
    "import matplotlib.pyplot as plt\n",
    "from numpy.linalg import norm\n",
    "from collections import Counter\n",
    "from time import time\n",
    "from matplotlib import collections  as mc\n",
    "\n",
    "sns.set_style('whitegrid')"
   ]
  },
  {
   "cell_type": "markdown",
   "metadata": {
    "_uuid": "d8fee69927a90feb170f76ca4eab4bfba1df0137"
   },
   "source": [
    "## Loading Data"
   ]
  },
  {
   "cell_type": "code",
   "execution_count": null,
   "metadata": {
    "_uuid": "b7dd11954aac54e820d41cc8b42d923ef29b62be"
   },
   "outputs": [],
   "source": [
    "df = pd.read_csv(\"./data/cities.csv\")"
   ]
  },
  {
   "cell_type": "code",
   "execution_count": null,
   "metadata": {
    "_uuid": "223d98ab4177a56d07106404c6f684334781b08c"
   },
   "outputs": [],
   "source": [
    "df.head()"
   ]
  },
  {
   "cell_type": "code",
   "execution_count": null,
   "metadata": {
    "_uuid": "ebbf081d6f8701e245aabd9c256c8b1bf86f32ca"
   },
   "outputs": [],
   "source": [
    "plt.figure(figsize=(15, 10))\n",
    "plt.scatter(df.X, df.Y, s=1)\n",
    "plt.scatter(df.iloc[0: 1, 1], df.iloc[0: 1, 2], s=10, c=\"red\")\n",
    "plt.grid(False)\n",
    "plt.show()"
   ]
  },
  {
   "cell_type": "code",
   "execution_count": null,
   "metadata": {
    "_uuid": "aeb835a66ae964f651b6670187f906563b52dae5"
   },
   "outputs": [],
   "source": [
    "nb_cities = max(df.CityId)\n",
    "print(\"Number of cities to visit : \", nb_cities)"
   ]
  },
  {
   "cell_type": "code",
   "execution_count": null,
   "metadata": {
    "_uuid": "eb397198a32c1305b07b70f1af02f13ff3b0e384"
   },
   "outputs": [],
   "source": [
    "df.tail()"
   ]
  },
  {
   "cell_type": "markdown",
   "metadata": {
    "_uuid": "9fffa809c3d8017f954aa37f0060cec6d57ed97a"
   },
   "source": [
    "## Getting Prime Cities"
   ]
  },
  {
   "cell_type": "code",
   "execution_count": null,
   "metadata": {
    "_uuid": "d154a9fa5fbe41a57588ee8b1f905eab64fb7336"
   },
   "outputs": [],
   "source": [
    "def sieve_eratosthenes(n):\n",
    "    primes = [False, False] + [True for i in range(n-1)]\n",
    "    p = 2\n",
    "    while (p * p <= n):\n",
    "        if (primes[p] == True):\n",
    "            for i in range(p * 2, n + 1, p):\n",
    "                primes[i] = False\n",
    "        p += 1\n",
    "    return primes"
   ]
  },
  {
   "cell_type": "code",
   "execution_count": null,
   "metadata": {
    "_uuid": "05d55cc1052136fdc2ea506236b3829a4d7ddcf5"
   },
   "outputs": [],
   "source": [
    "primes = np.array(sieve_eratosthenes(nb_cities)).astype(int)\n",
    "df['Prime'] = primes"
   ]
  },
  {
   "cell_type": "code",
   "execution_count": null,
   "metadata": {
    "_uuid": "000e31db5829121a6c77e12e810d4bd0b1c389ca"
   },
   "outputs": [],
   "source": [
    "penalization = 0.1 * (1 - primes) + 1"
   ]
  },
  {
   "cell_type": "code",
   "execution_count": null,
   "metadata": {
    "_uuid": "ab8f5b23e833580008b6ae26f13e5ad9149e8c49"
   },
   "outputs": [],
   "source": [
    "df.head()"
   ]
  },
  {
   "cell_type": "code",
   "execution_count": null,
   "metadata": {
    "_uuid": "9d7394935cffc130efd62a9cf7d1e333a481e800"
   },
   "outputs": [],
   "source": [
    "plt.figure(figsize=(15, 10))\n",
    "sns.countplot(df.Prime)\n",
    "plt.title(\"Prime repartition : \" + str(Counter(df.Prime)))\n",
    "plt.show()"
   ]
  },
  {
   "cell_type": "markdown",
   "metadata": {
    "_uuid": "a6f65711805eaeba96f50d77d4f1b2f5ca7377d9"
   },
   "source": [
    "Almost a tenth of the cities is prime, which is a good because we want to visit prime a prime city every 10 cities."
   ]
  },
  {
   "cell_type": "code",
   "execution_count": null,
   "metadata": {
    "_uuid": "51a57cd74e1c5c923c15cf264892c02916dc6355"
   },
   "outputs": [],
   "source": [
    "plt.figure(figsize=(15, 10))\n",
    "plt.scatter(df[df['Prime'] == 0].X, df[df['Prime'] == 0].Y, s=1, alpha=0.4)\n",
    "plt.scatter(df[df['Prime'] == 1].X, df[df['Prime'] == 1].Y, s=1, alpha=0.6, c='blue')\n",
    "plt.scatter(df.iloc[0: 1, 1], df.iloc[0: 1, 2], s=10, c=\"red\")\n",
    "plt.grid(False)\n",
    "plt.title('Visualisation of cities')\n",
    "plt.show()"
   ]
  },
  {
   "cell_type": "markdown",
   "metadata": {
    "_uuid": "0f5a90f2bcd41612844619f2f9944e6412acc2cc"
   },
   "source": [
    "There are prime cities approximately all around the map. Which is a good thing as well."
   ]
  },
  {
   "cell_type": "markdown",
   "metadata": {
    "_uuid": "b8d7854e9e457471f41d2a54e19e19db92452d48"
   },
   "source": [
    "## Now to the Algorithm"
   ]
  },
  {
   "cell_type": "markdown",
   "metadata": {
    "_uuid": "f74c2b04f6a357026696038377736795fe17a2be"
   },
   "source": [
    "### Key functions"
   ]
  },
  {
   "cell_type": "markdown",
   "metadata": {
    "_uuid": "6476bd2813f19d01a04414f6dea2e7475520a236"
   },
   "source": [
    "This first function gets the distance of all the cities to the current city.\n",
    "\n",
    "If we decide to penalize, we multiply the distance of non-prime cities by $1.1$"
   ]
  },
  {
   "cell_type": "code",
   "execution_count": null,
   "metadata": {
    "_uuid": "6cb37bc13b402660e24d41caf5e5f358673c9dce"
   },
   "outputs": [],
   "source": [
    "def dist_matrix(coords, i, penalize=False):\n",
    "    begin = np.array([df.X[i], df.Y[i]])[:, np.newaxis]\n",
    "    mat =  coords - begin\n",
    "    if penalize:\n",
    "        return np.linalg.norm(mat, ord=2, axis=0) * penalization\n",
    "    else:\n",
    "        return np.linalg.norm(mat, ord=2, axis=0)"
   ]
  },
  {
   "cell_type": "markdown",
   "metadata": {
    "_uuid": "658716984f5377256179a614568fa60e4e0ffdc8"
   },
   "source": [
    "This one gets the closest city available"
   ]
  },
  {
   "cell_type": "code",
   "execution_count": null,
   "metadata": {
    "_uuid": "1b6cb87f8ed21ed36e1bcfc84d3c4b1bd03ba4b3"
   },
   "outputs": [],
   "source": [
    "def get_next_city(dist, avail):\n",
    "    return avail[np.argmin(dist[avail])]"
   ]
  },
  {
   "cell_type": "markdown",
   "metadata": {
    "_uuid": "a2f93896d19ea4adc852d6156ca00c8c2d851e6e"
   },
   "source": [
    "### Initialization"
   ]
  },
  {
   "cell_type": "markdown",
   "metadata": {
    "_uuid": "1ee6c957f056e8368ff473b4ac71922995cff8ac"
   },
   "source": [
    "We store city coordinates in an array, for efficiency"
   ]
  },
  {
   "cell_type": "code",
   "execution_count": null,
   "metadata": {
    "_uuid": "ab21b3beee6fab4ff644e96adb71dda3ab939480"
   },
   "outputs": [],
   "source": [
    "coordinates = np.array([df.X, df.Y])"
   ]
  },
  {
   "cell_type": "markdown",
   "metadata": {
    "_uuid": "dd4b1eca5930f18928652c5a2a2e98baf716c1f4"
   },
   "source": [
    "We start at the north pole"
   ]
  },
  {
   "cell_type": "code",
   "execution_count": null,
   "metadata": {
    "_uuid": "cd86bf084e22b1cdf135c2c1ab3764864f0a52cb"
   },
   "outputs": [],
   "source": [
    "current_city = 0 "
   ]
  },
  {
   "cell_type": "markdown",
   "metadata": {
    "_uuid": "ff1e81c274b8cd5fa28ea6c77c4a497eb42b64b9"
   },
   "source": [
    "We have all cities to visit, except the north pole"
   ]
  },
  {
   "cell_type": "code",
   "execution_count": null,
   "metadata": {
    "_uuid": "7db05a0d94f0c27e405b6866c8767d44002d0931"
   },
   "outputs": [],
   "source": [
    "left_cities = np.array(df.CityId)[1:]"
   ]
  },
  {
   "cell_type": "markdown",
   "metadata": {
    "_uuid": "ae16b57acd968856e74c313ef1b3dc1ec3602ec0"
   },
   "source": [
    "Our path starts with the north pole"
   ]
  },
  {
   "cell_type": "code",
   "execution_count": null,
   "metadata": {
    "_uuid": "7346e03708a8550bde3f9ff0c6b6be72cd67ebbe"
   },
   "outputs": [],
   "source": [
    "path = [0]"
   ]
  },
  {
   "cell_type": "markdown",
   "metadata": {
    "_uuid": "0fc22287a2f8b6ea7edc0d73185e103db9629739"
   },
   "source": [
    "We start at 1 the first step"
   ]
  },
  {
   "cell_type": "code",
   "execution_count": null,
   "metadata": {
    "_uuid": "c67d76db611b7a721774de3dd0a063657a6e9df9"
   },
   "outputs": [],
   "source": [
    "stepNumber = 1"
   ]
  },
  {
   "cell_type": "markdown",
   "metadata": {
    "_uuid": "a975cfc1feadc94b073caa105ca6399fa3f10930"
   },
   "source": [
    "### Loop"
   ]
  },
  {
   "cell_type": "code",
   "execution_count": null,
   "metadata": {
    "_uuid": "cc39184e725dca1fed8e2974419f66003969ed50"
   },
   "outputs": [],
   "source": [
    "t0 = time()\n",
    "\n",
    "while left_cities.size > 0:\n",
    "    if stepNumber % 10000 == 0: #We print the progress of the algorithm\n",
    "        print(f\"Time elapsed : {time() - t0} - Number of cities left : {left_cities.size}\")\n",
    "    # If we are at the ninth iteration (modulo 10), we may want to go to a prime city. Note that there is an approximation here: we penalize the path to the 10th city insted of 11th\n",
    "    favorize_prime = (stepNumber % 10 == 9)\n",
    "    # Compute the distance matrix\n",
    "    distances = dist_matrix(coordinates, current_city, penalize=favorize_prime)\n",
    "    # Get the closest city and go to it\n",
    "    current_city = get_next_city(distances, left_cities)\n",
    "    # Update the list of not visited cities\n",
    "    left_cities = np.setdiff1d(left_cities, np.array([current_city]))\n",
    "    # Append the city to the path\n",
    "    path.append(current_city)\n",
    "    # Add one step\n",
    "    stepNumber += 1"
   ]
  },
  {
   "cell_type": "code",
   "execution_count": null,
   "metadata": {
    "_uuid": "67ba290e6c74d96cc4abbbd2b8978d867a58c2ee"
   },
   "outputs": [],
   "source": [
    "print(f\"Loop lasted {(time() - t0) // 60} minutes \")"
   ]
  },
  {
   "cell_type": "markdown",
   "metadata": {
    "_uuid": "acd3d45fa793b21d5e49da3a4accf0fa984ad5ff"
   },
   "source": [
    "#### End"
   ]
  },
  {
   "cell_type": "markdown",
   "metadata": {
    "_uuid": "72219be0d7afc43b5bde01adaab24e9d3a97a597"
   },
   "source": [
    "Adding the north pole to our path"
   ]
  },
  {
   "cell_type": "code",
   "execution_count": null,
   "metadata": {
    "_uuid": "065b95974c8201454ba12ec293a36c37622ecc86"
   },
   "outputs": [],
   "source": [
    "path.append(0)"
   ]
  },
  {
   "cell_type": "markdown",
   "metadata": {
    "_uuid": "b49b075134552ecc3a520c856572767fdf375438"
   },
   "source": [
    "Checking that our path is of correct length"
   ]
  },
  {
   "cell_type": "code",
   "execution_count": null,
   "metadata": {
    "_uuid": "26b2e3f3305e159dd13728cfda8621d74f95b04c"
   },
   "outputs": [],
   "source": [
    "print(len(path) == len(df) + 1)"
   ]
  },
  {
   "cell_type": "markdown",
   "metadata": {
    "_uuid": "71acda999694d435e12888ffd41f6b6d0ecb732a"
   },
   "source": [
    "### Plotting path"
   ]
  },
  {
   "cell_type": "code",
   "execution_count": null,
   "metadata": {
    "_uuid": "0c63213dd47995a667025f6538440bdd5cafd819"
   },
   "outputs": [],
   "source": [
    "def plot_path(path, coordinates):\n",
    "    # Plot tour\n",
    "    lines = [[coordinates[: ,path[i-1]], coordinates[:, path[i]]] for i in range(1, len(path)-1)]\n",
    "    lc = mc.LineCollection(lines, linewidths=2)\n",
    "    fig, ax = plt.subplots(figsize=(20,20))\n",
    "    ax.set_aspect('equal')\n",
    "    plt.grid(False)\n",
    "    ax.add_collection(lc)\n",
    "    ax.autoscale()"
   ]
  },
  {
   "cell_type": "code",
   "execution_count": null,
   "metadata": {
    "_uuid": "fc76245b7585d94b8c79d7b36016fd7402768210"
   },
   "outputs": [],
   "source": [
    "plot_path(path, coordinates)"
   ]
  },
  {
   "cell_type": "markdown",
   "metadata": {
    "_uuid": "0387b09e5ae4db7b5c0cd81cab3c3804eb1f0470"
   },
   "source": [
    "This is kinda bad, but this is a greedy algorithm so there was not much to expect."
   ]
  },
  {
   "cell_type": "markdown",
   "metadata": {
    "_uuid": "fd5e1bd8fa533eacff98b5dc60d3c51c55766c97"
   },
   "source": [
    "## Results"
   ]
  },
  {
   "cell_type": "code",
   "execution_count": null,
   "metadata": {
    "_uuid": "c615492b51fe0c32cb8355fbd69f111da90b614e"
   },
   "outputs": [],
   "source": [
    "def get_score(path, coords, primes):\n",
    "    score = 0\n",
    "    for i in range(1, len(path)):\n",
    "        begin = path[i-1]\n",
    "        end = path[i]\n",
    "        distance = np.linalg.norm(coords[:, end] - coords[:, begin], ord=2)\n",
    "        if i%10 == 0:\n",
    "            if not primes[begin]:\n",
    "                distance *= 1.1\n",
    "        score += distance\n",
    "    return score"
   ]
  },
  {
   "cell_type": "code",
   "execution_count": null,
   "metadata": {
    "_uuid": "66581e920652316c1211fcc1b01a3d89eabc3926"
   },
   "outputs": [],
   "source": [
    "score = get_score(path, coordinates, primes)"
   ]
  },
  {
   "cell_type": "code",
   "execution_count": null,
   "metadata": {
    "_uuid": "680acf8550418f64ceb2cc4d4f2407ba814874e5"
   },
   "outputs": [],
   "source": [
    "print(\"Solution scored \", score)"
   ]
  },
  {
   "cell_type": "markdown",
   "metadata": {
    "_uuid": "791c740b6b68af05487f360efa7c7f759a784a54"
   },
   "source": [
    "Again, this is not very good. Let us check the influence of going back to the north pole : "
   ]
  },
  {
   "cell_type": "code",
   "execution_count": null,
   "metadata": {
    "_uuid": "249d1518ad155b38a227cb1091f9de55f360cff6"
   },
   "outputs": [],
   "source": [
    "print(score - get_score(path[:-1], coordinates, primes))"
   ]
  },
  {
   "cell_type": "markdown",
   "metadata": {
    "_uuid": "d23d580d1aa33f0c56b99f5381d3d0f548b493b7"
   },
   "source": [
    "Ouch. Anyways, let us submit our results."
   ]
  },
  {
   "cell_type": "code",
   "execution_count": null,
   "metadata": {
    "_uuid": "584fca2979b790eca628a579726c63a5246007d2"
   },
   "outputs": [],
   "source": [
    "submission = pd.DataFrame({\"Path\": path})\n",
    "submission.to_csv(\"submission.csv\", index=None)"
   ]
  },
  {
   "cell_type": "code",
   "execution_count": null,
   "metadata": {},
   "outputs": [],
   "source": []
  },
  {
   "cell_type": "code",
   "execution_count": null,
   "metadata": {},
   "outputs": [],
   "source": []
  }
 ],
 "metadata": {
  "kernelspec": {
   "display_name": "Python 3",
   "language": "python",
   "name": "python3"
  },
  "language_info": {
   "codemirror_mode": {
    "name": "ipython",
    "version": 3
   },
   "file_extension": ".py",
   "mimetype": "text/x-python",
   "name": "python",
   "nbconvert_exporter": "python",
   "pygments_lexer": "ipython3",
   "version": "3.7.0"
  }
 },
 "nbformat": 4,
 "nbformat_minor": 1
}
